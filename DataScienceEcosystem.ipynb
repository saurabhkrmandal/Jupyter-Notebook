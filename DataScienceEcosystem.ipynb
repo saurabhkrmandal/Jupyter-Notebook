{
 "cells": [
  {
   "cell_type": "markdown",
   "id": "07aca596-e77f-4405-86e4-eab8575410a1",
   "metadata": {},
   "source": [
    "# Data Science Tools and Ecosystem"
   ]
  },
  {
   "cell_type": "markdown",
   "id": "7182a55b-64d5-40fc-9940-6062d259140e",
   "metadata": {},
   "source": [
    "In this notebook, Data Science Tools and Ecosystem are summarized."
   ]
  },
  {
   "cell_type": "markdown",
   "id": "789c4254-b4f8-479a-a85d-a1daaa553daf",
   "metadata": {},
   "source": [
    "__Objectives:__\n",
    "- List popular langauges for Data Science\n",
    "- List commonly used libraries for Data science\n",
    "- List Data Science Tools\n",
    "- Examples of evaluating arithmetic expressions in Python¶"
   ]
  },
  {
   "cell_type": "markdown",
   "id": "7cd1d7b5-8f8f-447f-9a0b-e2091834a04d",
   "metadata": {},
   "source": [
    "Some of the popular languages that Data Scientists use are:\n",
    "1. Python\n",
    "2. R\n",
    "3. Julia\n",
    "4. JavaScript"
   ]
  },
  {
   "cell_type": "markdown",
   "id": "b85bbacc-5f12-47ac-9474-79e85c965dce",
   "metadata": {},
   "source": [
    "Some of the commonly used libraries used by Data Scientists include:\n",
    "1. Matplotlib\n",
    "2. NumPy\n",
    "3. Scikit-Learn\n",
    "4. Tensorflow"
   ]
  },
  {
   "cell_type": "markdown",
   "id": "129d86d9-e276-4af4-adeb-6eb09a3c7b8e",
   "metadata": {},
   "source": [
    "| Data Science Tools |\n",
    "-----\n",
    "| Apache Spark |\n",
    "| Tensorflow |\n",
    "| RStudio |"
   ]
  },
  {
   "cell_type": "markdown",
   "id": "4acc4763-4c89-4aa7-b2ed-08706f05d94d",
   "metadata": {},
   "source": [
    "### Below are a few examples of evaluating arithmetic expressions in Python"
   ]
  },
  {
   "cell_type": "code",
   "execution_count": 9,
   "id": "fa8bf261-af8c-4223-9d10-2c8f68fb1dd7",
   "metadata": {},
   "outputs": [
    {
     "data": {
      "text/plain": [
       "17"
      ]
     },
     "execution_count": 9,
     "metadata": {},
     "output_type": "execute_result"
    }
   ],
   "source": [
    "# This is simple arithmetic expression to  multiply then add integers\n",
    "(3*4)+5"
   ]
  },
  {
   "cell_type": "code",
   "execution_count": 11,
   "id": "0c010efc-bf63-4dda-9598-a572733505e1",
   "metadata": {},
   "outputs": [
    {
     "name": "stdout",
     "output_type": "stream",
     "text": [
      "3.3333333333333335\n"
     ]
    }
   ],
   "source": [
    "min = 200\n",
    "# This convert hours to minutes\n",
    "hours = min/60\n",
    "print(hours)"
   ]
  },
  {
   "cell_type": "markdown",
   "id": "75100ae0-5095-4d49-9de2-1388c33d55b8",
   "metadata": {},
   "source": []
  }
 ],
 "metadata": {
  "kernelspec": {
   "display_name": "Python 3 (ipykernel)",
   "language": "python",
   "name": "python3"
  },
  "language_info": {
   "codemirror_mode": {
    "name": "ipython",
    "version": 3
   },
   "file_extension": ".py",
   "mimetype": "text/x-python",
   "name": "python",
   "nbconvert_exporter": "python",
   "pygments_lexer": "ipython3",
   "version": "3.12.4"
  }
 },
 "nbformat": 4,
 "nbformat_minor": 5
}
